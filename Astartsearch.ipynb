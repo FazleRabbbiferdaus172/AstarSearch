{
  "nbformat": 4,
  "nbformat_minor": 0,
  "metadata": {
    "colab": {
      "name": "Astartsearch.ipynb",
      "provenance": [],
      "collapsed_sections": [],
      "authorship_tag": "ABX9TyOjMQNoMaV+2YVFISiVGj5+",
      "include_colab_link": true
    },
    "kernelspec": {
      "name": "python3",
      "display_name": "Python 3"
    }
  },
  "cells": [
    {
      "cell_type": "markdown",
      "metadata": {
        "id": "view-in-github",
        "colab_type": "text"
      },
      "source": [
        "<a href=\"https://colab.research.google.com/github/FazleRabbbiferdaus172/AstarSearch/blob/master/Astartsearch.ipynb\" target=\"_parent\"><img src=\"https://colab.research.google.com/assets/colab-badge.svg\" alt=\"Open In Colab\"/></a>"
      ]
    },
    {
      "cell_type": "code",
      "metadata": {
        "id": "p4SxXclpd0yp",
        "colab_type": "code",
        "outputId": "5daa7076-bea7-484a-b6cb-116e4c1a12f0",
        "colab": {
          "base_uri": "https://localhost:8080/",
          "height": 68
        }
      },
      "source": [
        "class Node:\n",
        "    def __init__(self,node_no,prev_node,actual_travel_cost,total_travel_cost):\n",
        "        self.node_no = node_no\n",
        "        self.prev_node = prev_node\n",
        "        self.actual_travel_cost =  actual_travel_cost\n",
        "        self.total_travel_cost = total_travel_cost\n",
        "\n",
        "class PriorityQueue(object): \n",
        "    def __init__(self): \n",
        "        self.queue = [] \n",
        "  \n",
        "    def __str__(self): \n",
        "        return ' '.join([str(i) for i in self.queue]) \n",
        "  \n",
        "    # for checking if the queue is empty \n",
        "    def isEmpty(self): \n",
        "        return len(self.queue) == [] \n",
        "  \n",
        "    # for inserting an element in the queue \n",
        "    def insert(self, data): \n",
        "        self.queue.append(data) \n",
        "  \n",
        "    # for popping an element based on Priority \n",
        "    def delete(self): \n",
        "        try: \n",
        "            min = 0\n",
        "            for i in range(len(self.queue)): \n",
        "                t1 = self.queue[i].total_travel_cost\n",
        "                t2 = self.queue[min].total_travel_cost\n",
        "                if t1 < t2: \n",
        "                    min = i \n",
        "            item = self.queue[min] \n",
        "            del self.queue[min] \n",
        "            return item \n",
        "        except IndexError: \n",
        "            print() \n",
        "            exit()\n",
        "\n",
        "#Use this for user input\n",
        "'''node = [None]\n",
        "node = list(input('Node as number:').split())\n",
        "node_dic = dict()\n",
        "for i in node:\n",
        "    node_dic[i] = input('Enter a node name:')\n",
        "\n",
        "adj_node = [None]*len(node)\n",
        "for i in range(len(node)):\n",
        "    l = list(input('Enter adjecnt nodes:').split())\n",
        "    adj_node[i] = l\n",
        "\n",
        "h_value = list(input('Enter hurestic value').split())\n",
        "search_node=input('Enter the node number for search:')'''\n",
        "#--------------------$$$$$$$$$$$$$$$$$$$$------------------------\n",
        "\n",
        "#use this for the sample input of the slide\n",
        "node = ['0','1','2','3','4']\n",
        "search_node = '4'\n",
        "node_dic = dict()\n",
        "node_dic = {'0': 's', '1': 'a', '2': 'b', '3': 'c', '4': 'd'}\n",
        "adj_node = [['-1', '1', '4', '-1', '-1'], ['-1', '-1', '2', '5', '12'], ['-1', '-1', '-1', '2', '-1'], ['-1', '-1', '-1', '-1', '3'], ['-1', '-1', '-1', '-1', '-1']]\n",
        "h_value = ['7','6','2','1','0']\n",
        "#-----------------------$$$$$$$$$$$$$$$$$$-------------------------\n",
        "\n",
        "\n",
        "\n",
        "s = Node(node[0],None,0,h_value[0])\n",
        "q = PriorityQueue()\n",
        "q.insert(s)\n",
        "it = 0\n",
        "path = []\n",
        "while(not q.isEmpty()):\n",
        "    it= it +1\n",
        "    nob = q.delete()\n",
        "    '''print(nob.node_no)'''\n",
        "    if(int(nob.node_no) == int(search_node)):\n",
        "        p = nob\n",
        "        while(p.prev_node!=None):\n",
        "            path.append(p.node_no)\n",
        "            p = p.prev_node\n",
        "        path.append(p.node_no)\n",
        "        print('Found')\n",
        "        print('Cost:'+str(nob.actual_travel_cost))\n",
        "        break\n",
        "    j = 0\n",
        "    for i in adj_node[int(nob.node_no)]:\n",
        "        if(int(i) > -1):\n",
        "            atc =  int(nob.actual_travel_cost) + int(i) \n",
        "            ttc = atc + int(h_value[int(j)])\n",
        "            newnob = Node(node[j],nob,atc,ttc)\n",
        "            q.insert(newnob)\n",
        "        j = j + 1\n",
        "print('Path is :',end =\" \")\n",
        "for i in reversed(path):\n",
        "    print(node_dic[str(i)],end =\"->\")\n",
        "\n",
        "\n",
        "\n",
        "\n",
        "\n",
        "\n"
      ],
      "execution_count": 0,
      "outputs": [
        {
          "output_type": "stream",
          "text": [
            "Found\n",
            "Cost:8\n",
            "Path is : s->a->b->c->d->"
          ],
          "name": "stdout"
        }
      ]
    },
    {
      "cell_type": "code",
      "metadata": {
        "id": "JkPLrCl19UII",
        "colab_type": "code",
        "colab": {}
      },
      "source": [
        ""
      ],
      "execution_count": 0,
      "outputs": []
    }
  ]
}